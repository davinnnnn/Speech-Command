{
  "cells": [
    {
      "cell_type": "markdown",
      "metadata": {
        "id": "view-in-github",
        "colab_type": "text"
      },
      "source": [
        "<a href=\"https://colab.research.google.com/github/davinnnnn/Speech-Command/blob/main/speech_command_classification_with_torchaudio_tutorial.ipynb\" target=\"_parent\"><img src=\"https://colab.research.google.com/assets/colab-badge.svg\" alt=\"Open In Colab\"/></a>"
      ]
    },
    {
      "cell_type": "code",
      "execution_count": 1,
      "metadata": {
        "id": "0KzthEkcaofG",
        "colab": {
          "base_uri": "https://localhost:8080/"
        },
        "outputId": "67ab02ae-f1a8-4df2-a36b-4652a40a36e5"
      },
      "outputs": [
        {
          "output_type": "stream",
          "name": "stdout",
          "text": [
            "Collecting pydub\n",
            "  Downloading pydub-0.25.1-py2.py3-none-any.whl (32 kB)\n",
            "Installing collected packages: pydub\n",
            "Successfully installed pydub-0.25.1\n"
          ]
        }
      ],
      "source": [
        "# 그래프를 셸 결과창에 나타나게하는 명령어\n",
        "\n",
        "%matplotlib inline\n",
        "\n",
        "!pip install pydub # 이 명령은 pydub 패키지를 설치하는 명령입니다. pydub는 오디오 파일 처리를 위한 패키지입니다.\n",
        "\n",
        "import sys  # sys 모듈을 임포트합니다. sys 모듈은 시스템과 관련된 기능을 제공합니다.\n",
        "\n"
      ]
    },
    {
      "cell_type": "markdown",
      "source": [
        "\"speech command classification with torchaudio\" 튜토리얼에서 사용되는 모델은 Convolutional Neural Network (CNN)과 Recurrent Neural Network (RNN)을 결합한 형태로, 음성 명령을 분류하기 위한 효과적인 동작원리를 제공한다. 이 모델은 음성 신호의 스펙트로그램(시간에 따른 주파수 변화를 시각화하는 방법)을 입력으로 사용한다.\n"
      ],
      "metadata": {
        "id": "dxl4Sbol4LOe"
      }
    },
    {
      "cell_type": "markdown",
      "metadata": {
        "id": "D6FSGLP2aofJ"
      },
      "source": [
        "\n",
        "# Speech Command Classification with torchaudio\n",
        "\n",
        "This tutorial will show you how to correctly format an audio dataset and\n",
        "then train/test an audio classifier network on the dataset.\n",
        "\n",
        "Colab has GPU option available. In the menu tabs, select “Runtime” then\n",
        "“Change runtime type”. In the pop-up that follows, you can choose GPU.\n",
        "After the change, your runtime should automatically restart (which means\n",
        "information from executed cells disappear).\n",
        "\n",
        "First, let’s import the common torch packages such as\n",
        "[torchaudio](https://github.com/pytorch/audio)_ that can be installed\n",
        "by following the instructions on the website.\n"
      ]
    },
    {
      "cell_type": "markdown",
      "source": [
        "이 튜토리얼은 오디오 데이터셋의 올바른 형식을 만드는 방법과 해당 데이터셋에서 오디오 분류 네트워크를 훈련 및 테스트하는 방법을 보여줍니다. Colab에서는 GPU 옵션이 제공됩니다. 메뉴 탭에서 'Runtime'을 선택한 다음 'Change runtime type'을 선택합니다. 이후 나타나는 팝업에서 GPU를 선택할 수 있습니다. 변경 후에는 런타임이 자동으로 다시 시작됩니다 (이는 실행된 셀의 정보가 사라진다는 의미입니다). 먼저 웹사이트의 지침을 따라 설치할 수 있는 torchaudio와 같은 공통 torch 패키지를 가져오겠습니다"
      ],
      "metadata": {
        "id": "RUSV9NVs5HXd"
      }
    },
    {
      "cell_type": "code",
      "execution_count": 2,
      "metadata": {
        "id": "DK6cgUlIaofK"
      },
      "outputs": [],
      "source": [
        "# Uncomment the line corresponding to your \"runtime type\" to run in Google Colab\n",
        "\n",
        "# CPU:\n",
        "# !pip install pydub torch==1.7.0+cpu torchvision==0.8.1+cpu torchaudio==0.7.0 -f https://download.pytorch.org/whl/torch_stable.html\n",
        "\n",
        "# GPU:\n",
        "# !pip install pydub torch==1.7.0+cu101 torchvision==0.8.1+cu101 torchaudio==0.7.0 -f https://download.pytorch.org/whl/torch_stable.html\n",
        "\n",
        "import torch\n",
        "import torch.nn as nn\n",
        "import torch.nn.functional as F\n",
        "import torch.optim as optim\n",
        "import torchaudio\n",
        "import sys\n",
        "\n",
        "import matplotlib.pyplot as plt\n",
        "import IPython.display as ipd\n",
        "\n",
        "from tqdm import tqdm\n"
      ]
    },
    {
      "cell_type": "markdown",
      "metadata": {
        "id": "T--6rYDhaofL"
      },
      "source": [
        "Let’s check if a CUDA GPU is available and select our device. Running\n",
        "the network on a GPU will greatly decrease the training/testing runtime.\n",
        "\n",
        "\n"
      ]
    },
    {
      "cell_type": "code",
      "execution_count": 3,
      "metadata": {
        "colab": {
          "base_uri": "https://localhost:8080/"
        },
        "id": "37LTEsjOaofL",
        "outputId": "34e83221-a213-4e28-9428-c054167da433"
      },
      "outputs": [
        {
          "output_type": "stream",
          "name": "stdout",
          "text": [
            "cpu\n"
          ]
        }
      ],
      "source": [
        "# cuda 지원여부 안되면 cpu 사용\n",
        "device = torch.device(\"cuda\" if torch.cuda.is_available() else \"cpu\")\n",
        "print(device)"
      ]
    },
    {
      "cell_type": "markdown",
      "metadata": {
        "id": "MAleZwPmaofM"
      },
      "source": [
        "## Importing the Dataset\n",
        "\n",
        "We use torchaudio to download and represent the dataset. Here we use\n",
        "[SpeechCommands](https://arxiv.org/abs/1804.03209)_, which is a\n",
        "datasets of 35 commands spoken by different people. The dataset\n",
        "``SPEECHCOMMANDS`` is a ``torch.utils.data.Dataset`` version of the\n",
        "dataset. In this dataset, all audio files are about 1 second long (and\n",
        "so about 16000 time frames long).\n",
        "\n",
        "The actual loading and formatting steps happen when a data point is\n",
        "being accessed, and torchaudio takes care of converting the audio files\n",
        "to tensors. If one wants to load an audio file directly instead,\n",
        "``torchaudio.load()`` can be used. It returns a tuple containing the\n",
        "newly created tensor along with the sampling frequency of the audio file\n",
        "(16kHz for SpeechCommands).\n",
        "\n",
        "Going back to the dataset, here we create a subclass that splits it into\n",
        "standard training, validation, testing subsets.\n",
        "\n",
        "\n"
      ]
    },
    {
      "cell_type": "markdown",
      "source": [
        "데이터셋을 가져오는 과정\"에 관한 내용을 설명하고 있습니다. 이 튜토리얼에서는 torchaudio를 사용하여 데이터셋을 다운로드하고 표현함.\n",
        "(데이터셋 소개, 데이터셋 로딩 및 포맷틸, 데이터셋 분할)\n",
        "\n",
        "이 단계들은 데이터셋을 준비하고 모델을 훈련시키기 위한 기초적인 단계입니다. 데이터셋을 효과적으로 로드하고 포맷하는 것"
      ],
      "metadata": {
        "id": "ZbLBiuExvnG9"
      }
    },
    {
      "cell_type": "code",
      "execution_count": 4,
      "metadata": {
        "id": "VfSMbU5vaofM",
        "colab": {
          "base_uri": "https://localhost:8080/"
        },
        "outputId": "33b3f952-8b35-495f-c975-4610cd60cb43"
      },
      "outputs": [
        {
          "output_type": "stream",
          "name": "stderr",
          "text": [
            "100%|██████████| 2.26G/2.26G [00:49<00:00, 48.9MB/s]\n"
          ]
        }
      ],
      "source": [
        "from torchaudio.datasets import SPEECHCOMMANDS # torchaudio의 SPEECHCOMMANDS 데이터셋을 임포트\n",
        "import os # os 모듈을 임포트\n",
        "\n",
        "# SubsetSC 클래스 정의: SPEECHCOMMANDS 데이터셋을 subset(훈련, 테스트 등)에 따라 분할하는 클래스\n",
        "\n",
        "class SubsetSC(SPEECHCOMMANDS):\n",
        "    def __init__(self, subset: str = None):\n",
        "        super().__init__(\"./\", download=True) # 슈퍼클래스(SPEECHCOMMANDS)의 생성자를 호출하여 데이터셋을 현재 디렉토리에서 다운로드\n",
        "\n",
        "        def load_list(filename): # 파일을 읽어오는 함수를 정의\n",
        "            filepath = os.path.join(self._path, filename) # 파일 경로를 지정합니다.\n",
        "            with open(filepath) as fileobj: # 파일을 열고 사용한 후 자동으로 닫아주는 코드\n",
        "                return [os.path.normpath(os.path.join(self._path, line.strip())) for line in fileobj] # 파일을 읽어서 각 라인의 내용을 리스트로 반환\n",
        "\n",
        "        if subset == \"validation\":  # subset 변수에 따라 데이터셋을 로드\n",
        "            self._walker = load_list(\"validation_list.txt\") # \"validation_list.txt\" 파일을 읽어와서 self._walker에 할당\n",
        "        elif subset == \"testing\":\n",
        "            self._walker = load_list(\"testing_list.txt\") #'testing_list.txt' 파일을 읽어와서 self._walker에 할당\n",
        "        elif subset == \"training\":\n",
        "            excludes = load_list(\"validation_list.txt\") + load_list(\"testing_list.txt\") # 'training' subset을 생성하기 위해 'validation_list.txt'와 'testing_list.txt' 파일을 읽어오기\n",
        "            excludes = set(excludes) # 중복된 파일 경로를 제거하기 위해 중복을 제외한 파일 경로를 'excludes' 변수에 저장\n",
        "            self._walker = [w for w in self._walker if w not in excludes] # 현재 데이터셋(self._walker)에서 'excludes'에 있는 파일 경로들을 제외한 새로운 데이터셋을 생성\n",
        "\n",
        "\n",
        "# SubsetSC 클래스나 함수를 이용하여 학습용 데이터셋 서브셋을 생성\n",
        "train_set = SubsetSC(\"training\")\n",
        "\n",
        "# SubsetSC 클래스나 함수를 이용하여 테스트용 데이터셋 서브셋을 생성\n",
        "test_set = SubsetSC(\"testing\")\n",
        "\n",
        "# 학습 데이터셋에서 첫 번째 항목을 가져옵니다.\n",
        "# waveform: 발화의 오디오 파형\n",
        "# sample_rate: 오디오 파형의 샘플링 속도\n",
        "# label: 발화의 라벨 또는 카테고리\n",
        "# speaker_id: 발화를 한 사람의 식별자\n",
        "# utterance_number: 발화자에 대한 이 특정 발화의 번호\n",
        "waveform, sample_rate, label, speaker_id, utterance_number = train_set[0]\n"
      ]
    },
    {
      "cell_type": "markdown",
      "source": [],
      "metadata": {
        "id": "dVQLAo8CyxPU"
      }
    },
    {
      "cell_type": "markdown",
      "metadata": {
        "id": "59TBJhr8aofM"
      },
      "source": [
        "A data point in the SPEECHCOMMANDS dataset is a tuple made of a waveform\n",
        "(the audio signal), the sample rate, the utterance (label), the ID of\n",
        "the speaker, the number of the utterance.\n",
        "\n",
        "\n"
      ]
    },
    {
      "cell_type": "code",
      "execution_count": 5,
      "metadata": {
        "id": "-QEIUgLOaofM",
        "colab": {
          "base_uri": "https://localhost:8080/",
          "height": 464
        },
        "outputId": "ac592474-d7a2-4b8c-df80-b4e4ef73db6d"
      },
      "outputs": [
        {
          "output_type": "stream",
          "name": "stdout",
          "text": [
            "Shape of waveform: torch.Size([1, 16000])\n",
            "Sample rate of waveform: 16000\n"
          ]
        },
        {
          "output_type": "display_data",
          "data": {
            "text/plain": [
              "<Figure size 640x480 with 1 Axes>"
            ],
            "image/png": "[encoded data removed]"
          },
          "metadata": {}
        }
      ],
      "source": [
        "# waveform의 크기(차원)를 출력합니다.\n",
        "print(\"Shape of waveform: {}\".format(waveform.size()))\n",
        "\n",
        "# waveform의 샘플링 속도를 출력합니다.\n",
        "print(\"Sample rate of waveform: {}\".format(sample_rate))\n",
        "\n",
        "# waveform을 플롯으로 시각화합니다. .t() 메서드를 이용해 텐서를 전치하고, numpy() 메서드로 numpy 배열로 변환합니다.\n",
        "plt.plot(waveform.t().numpy());\n"
      ]
    },
    {
      "cell_type": "markdown",
      "metadata": {
        "id": "xt_iIaLcaofN"
      },
      "source": [
        "Let’s find the list of labels available in the dataset.\n",
        "\n",
        "\n"
      ]
    },
    {
      "cell_type": "code",
      "execution_count": 6,
      "metadata": {
        "id": "YGOXs6IsaofN",
        "colab": {
          "base_uri": "https://localhost:8080/"
        },
        "outputId": "2d3949d6-e4b1-4eb3-c85f-26f2d3c7885d"
      },
      "outputs": [
        {
          "output_type": "execute_result",
          "data": {
            "text/plain": [
              "['backward',\n",
              " 'bed',\n",
              " 'bird',\n",
              " 'cat',\n",
              " 'dog',\n",
              " 'down',\n",
              " 'eight',\n",
              " 'five',\n",
              " 'follow',\n",
              " 'forward',\n",
              " 'four',\n",
              " 'go',\n",
              " 'happy',\n",
              " 'house',\n",
              " 'learn',\n",
              " 'left',\n",
              " 'marvin',\n",
              " 'nine',\n",
              " 'no',\n",
              " 'off',\n",
              " 'on',\n",
              " 'one',\n",
              " 'right',\n",
              " 'seven',\n",
              " 'sheila',\n",
              " 'six',\n",
              " 'stop',\n",
              " 'three',\n",
              " 'tree',\n",
              " 'two',\n",
              " 'up',\n",
              " 'visual',\n",
              " 'wow',\n",
              " 'yes',\n",
              " 'zero']"
            ]
          },
          "metadata": {},
          "execution_count": 6
        }
      ],
      "source": [
        "# train_set 내 모든 데이터 포인트로부터 라벨(인덱스 2에 위치)을 추출하고,\n",
        "# 이를 집합(set)으로 변환하여 중복을 제거한 후, 다시 리스트로 변환하고 정렬합니다.\n",
        "labels = sorted(list(set(datapoint[2] for datapoint in train_set)))\n",
        "\n",
        "# 정렬된 라벨 리스트를 출력합니다.\n",
        "labels\n"
      ]
    },
    {
      "cell_type": "markdown",
      "metadata": {
        "id": "A4nSg5CjaofN"
      },
      "source": [
        "The 35 audio labels are commands that are said by users. The first few\n",
        "files are people saying “marvin”.\n",
        "\n",
        "\n"
      ]
    },
    {
      "cell_type": "code",
      "execution_count": 7,
      "metadata": {
        "id": "vU-hw_spaofN",
        "colab": {
          "base_uri": "https://localhost:8080/",
          "height": 52
        },
        "outputId": "47b77ac2-f673-4819-8ebb-9d255f732ad3"
      },
      "outputs": [
        {
          "output_type": "execute_result",
          "data": {
            "text/plain": [
              "<IPython.lib.display.Audio object>"
            ],
            "text/html": [
              "\n",
              "                <audio  controls=\"controls\" >\n",
              "                    <source src=\"data:audio/wav;base64,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\" type=\"audio/wav\" />\n",
              "                    Your browser does not support the audio element.\n",
              "                </audio>\n",
              "              "
            ]
          },
          "metadata": {},
          "execution_count": 7
        }
      ],
      "source": [
        "# train_set의 첫 번째 항목에서 waveform을 추출합니다.\n",
        "# *_는 나머지 항목들을 무시하겠다는 의미입니다.\n",
        "waveform_first, *_ = train_set[0]\n",
        "\n",
        "# 추출한 첫 번째 waveform을 Audio 형식으로 변환하여 재생합니다.\n",
        "ipd.Audio(waveform_first.numpy(), rate=sample_rate)\n",
        "\n",
        "# train_set의 두 번째 항목에서 waveform을 추출합니다.\n",
        "waveform_second, *_ = train_set[1]\n",
        "\n",
        "# 추출한 두 번째 waveform을 Audio 형식으로 변환하여 재생합니다.\n",
        "ipd.Audio(waveform_second.numpy(), rate=sample_rate)\n"
      ]
    },
    {
      "cell_type": "markdown",
      "metadata": {
        "id": "H6ezyBtiaofO"
      },
      "source": [
        "The last file is someone saying “visual”.\n",
        "\n",
        "\n"
      ]
    },
    {
      "cell_type": "code",
      "execution_count": 8,
      "metadata": {
        "id": "SPqmPPpbaofO",
        "colab": {
          "base_uri": "https://localhost:8080/",
          "height": 52
        },
        "outputId": "cd0d4125-8782-461d-ef6a-23b18b824f34"
      },
      "outputs": [
        {
          "output_type": "execute_result",
          "data": {
            "text/plain": [
              "<IPython.lib.display.Audio object>"
            ],
            "text/html": [
              "\n",
              "                <audio  controls=\"controls\" >\n",
              "                    <source src=\"data:audio/wav;base64,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\" type=\"audio/wav\" />\n",
              "                    Your browser does not support the audio element.\n",
              "                </audio>\n",
              "              "
            ]
          },
          "metadata": {},
          "execution_count": 8
        }
      ],
      "source": [
        "# train_set의 마지막 항목에서 waveform을 추출합니다.\n",
        "# *_는 나머지 항목들을 무시하겠다는 의미입니다.\n",
        "waveform_last, *_ = train_set[-1]\n",
        "\n",
        "# 추출한 마지막 waveform을 Audio 형식으로 변환하여 재생합니다.\n",
        "ipd.Audio(waveform_last.numpy(), rate=sample_rate)\n"
      ]
    },
    {
      "cell_type": "markdown",
      "metadata": {
        "id": "24oMNJdDaofO"
      },
      "source": [
        "## Formatting the Data\n",
        "\n",
        "This is a good place to apply transformations to the data. For the\n",
        "waveform, we downsample the audio for faster processing without losing\n",
        "too much of the classification power.\n",
        "\n",
        "We don’t need to apply other transformations here. It is common for some\n",
        "datasets though to have to reduce the number of channels (say from\n",
        "stereo to mono) by either taking the mean along the channel dimension,\n",
        "or simply keeping only one of the channels. Since SpeechCommands uses a\n",
        "single channel for audio, this is not needed here.\n",
        "\n",
        "\n"
      ]
    },
    {
      "cell_type": "code",
      "execution_count": 29,
      "metadata": {
        "id": "WWQrm9ltaofO",
        "colab": {
          "base_uri": "https://localhost:8080/",
          "height": 52
        },
        "outputId": "05599313-ba2a-41b3-d9ec-4f2ae7d2cf85"
      },
      "outputs": [
        {
          "output_type": "execute_result",
          "data": {
            "text/plain": [
              "<IPython.lib.display.Audio object>"
            ],
            "text/html": [
              "\n",
              "                <audio  controls=\"controls\" >\n",
              "                    <source src=\"data:audio/wav;base64,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\" type=\"audio/wav\" />\n",
              "                    Your browser does not support the audio element.\n",
              "                </audio>\n",
              "              "
            ]
          },
          "metadata": {},
          "execution_count": 29
        }
      ],
      "source": [
        "# 새로운 샘플률을 8000Hz로 설정합니다.\n",
        "new_sample_rate = 8000\n",
        "\n",
        "# 주어진 원래의 샘플률에서 새로운 샘플률로 리샘플링을 위한 변환 객체를 생성합니다.\n",
        "transform = torchaudio.transforms.Resample(orig_freq=sample_rate, new_freq=new_sample_rate)\n",
        "\n",
        "# 위에서 생성한 변환 객체를 이용하여 waveform을 리샘플링합니다.\n",
        "transformed = transform(waveform)\n",
        "\n",
        "# 리샘플링된 waveform을 Audio 형식으로 변환하여 재생합니다.\n",
        "ipd.Audio(transformed.numpy(), rate=new_sample_rate)\n"
      ]
    },
    {
      "cell_type": "markdown",
      "metadata": {
        "id": "Rna1pnKGaofO"
      },
      "source": [
        "We are encoding each word using its index in the list of labels.\n",
        "\n",
        "\n"
      ]
    },
    {
      "cell_type": "code",
      "execution_count": 10,
      "metadata": {
        "id": "JCaJR8IAaofP",
        "colab": {
          "base_uri": "https://localhost:8080/"
        },
        "outputId": "058ede13-5d25-402a-ed8e-683383ac41d3"
      },
      "outputs": [
        {
          "output_type": "stream",
          "name": "stdout",
          "text": [
            "yes --> tensor(33) --> yes\n"
          ]
        }
      ],
      "source": [
        "# 주어진 단어(라벨)의 인덱스를 반환하는 함수입니다.\n",
        "# 이 함수는 labels 리스트에서 주어진 단어의 위치를 찾아 반환합니다.\n",
        "def label_to_index(word):\n",
        "    return torch.tensor(labels.index(word))\n",
        "\n",
        "# 주어진 인덱스에 해당하는 단어(라벨)를 반환하는 함수입니다.\n",
        "# 이 함수는 label_to_index의 역함수로 작동합니다.\n",
        "def index_to_label(index):\n",
        "    return labels[index]\n",
        "\n",
        "# 예제 단어와 그에 해당하는 인덱스를 찾아 출력하는 테스트 코드입니다.\n",
        "word_start = \"yes\"\n",
        "index = label_to_index(word_start)\n",
        "word_recovered = index_to_label(index)\n",
        "print(word_start, \"-->\", index, \"-->\", word_recovered)\n"
      ]
    },
    {
      "cell_type": "markdown",
      "metadata": {
        "id": "mCzeobEwaofP"
      },
      "source": [
        "To turn a list of data point made of audio recordings and utterances\n",
        "into two batched tensors for the model, we implement a collate function\n",
        "which is used by the PyTorch DataLoader that allows us to iterate over a\n",
        "dataset by batches. Please see [the\n",
        "documentation](https://pytorch.org/docs/stable/data.html#working-with-collate-fn)_\n",
        "for more information about working with a collate function.\n",
        "\n",
        "In the collate function, we also apply the resampling, and the text\n",
        "encoding.\n",
        "\n",
        "\n"
      ]
    },
    {
      "cell_type": "code",
      "execution_count": 11,
      "metadata": {
        "id": "ORQfHH4gaofP"
      },
      "outputs": [],
      "source": [
        "# 주어진 배치의 텐서들의 길이를 동일하게 만들기 위한 함수 정의\n",
        "def pad_sequence(batch):\n",
        "    # 각 텐서를 전치하여 시간 차원이 앞으로 오게 합니다.\n",
        "    batch = [item.t() for item in batch]\n",
        "\n",
        "    # 각 텐서의 길이를 동일하게 맞춰주는 작업 (짧은 텐서는 0으로 패딩됩니다.)\n",
        "    batch = torch.nn.utils.rnn.pad_sequence(batch, batch_first=True, padding_value=0.)\n",
        "\n",
        "    # 전치된 텐서를 다시 원래대로 복귀시킵니다.\n",
        "    return batch.permute(0, 2, 1)\n",
        "\n",
        "# DataLoader에서 사용할 함수 정의 (배치 단위로 데이터를 처리)\n",
        "def collate_fn(batch):\n",
        "    # 각 데이터의 형태: waveform(오디오 데이터), sample_rate(샘플링 주파수), label(레이블), speaker_id(화자 ID), utterance_number(발화 번호)\n",
        "\n",
        "    # 처리된 텐서와 목표값을 저장할 두 개의 리스트 초기화\n",
        "    tensors, targets = [], []\n",
        "\n",
        "    # 각 배치 데이터에 대한 처리\n",
        "    for waveform, _, label, *_ in batch:\n",
        "        # 현재 waveform을 텐서 리스트에 추가\n",
        "        tensors += [waveform]\n",
        "\n",
        "        # 현재 라벨을 인덱스로 변환하여 목표 리스트에 추가\n",
        "        targets += [label_to_index(label)]\n",
        "\n",
        "    # 각 텐서의 길이를 동일하게 맞춰주는 함수 호출\n",
        "    tensors = pad_sequence(tensors)\n",
        "\n",
        "    # 목표값들을 텐서로 변환\n",
        "    targets = torch.stack(targets)\n",
        "\n",
        "    return tensors, targets\n",
        "\n",
        "# 배치의 크기를 256으로 설정\n",
        "batch_size = 256\n",
        "\n",
        "# 현재 디바이스가 GPU(cuda)인지 CPU인지 확인하고 그에 따라 설정\n",
        "if device == \"cuda\":\n",
        "    num_workers = 1   # GPU에서 사용할 워커 수\n",
        "    pin_memory = True # GPU 메모리 최적화 옵션 활성화\n",
        "else:\n",
        "    num_workers = 0   # CPU에서는 워커를 사용하지 않음\n",
        "    pin_memory = False\n",
        "\n",
        "# 학습 데이터셋에 대한 DataLoader 설정\n",
        "# 배치 사이즈, 셔플, 데이터 처리 함수, 워커 수 등의 옵션 설정\n",
        "train_loader = torch.utils.data.DataLoader(\n",
        "    train_set,\n",
        "    batch_size=batch_size,\n",
        "    shuffle=True,\n",
        "    collate_fn=collate_fn,\n",
        "    num_workers=num_workers,\n",
        "    pin_memory=pin_memory,\n",
        ")\n",
        "\n",
        "# 테스트 데이터셋에 대한 DataLoader 설정\n",
        "# 학습 데이터셋과 유사한 옵션을 사용하되, 셔플 옵션은 비활성화\n",
        "test_loader = torch.utils.data.DataLoader(\n",
        "    test_set,\n",
        "    batch_size=batch_size,\n",
        "    shuffle=False,\n",
        "    drop_last=False,\n",
        "    collate_fn=collate_fn,\n",
        "    num_workers=num_workers,\n",
        "    pin_memory=pin_memory,\n",
        ")\n"
      ]
    },
    {
      "cell_type": "markdown",
      "metadata": {
        "id": "4Pp7vGjxaofQ"
      },
      "source": [
        "## Define the Network\n",
        "\n",
        "For this tutorial we will use a convolutional neural network to process\n",
        "the raw audio data. Usually more advanced transforms are applied to the\n",
        "audio data, however CNNs can be used to accurately process the raw data.\n",
        "The specific architecture is modeled after the M5 network architecture\n",
        "described in [this paper](https://arxiv.org/pdf/1610.00087.pdf)_. An\n",
        "important aspect of models processing raw audio data is the receptive\n",
        "field of their first layer’s filters. Our model’s first filter is length\n",
        "80 so when processing audio sampled at 8kHz the receptive field is\n",
        "around 10ms (and at 4kHz, around 20 ms). This size is similar to speech\n",
        "processing applications that often use receptive fields ranging from\n",
        "20ms to 40ms.\n",
        "\n",
        "\n"
      ]
    },
    {
      "cell_type": "code",
      "execution_count": 12,
      "metadata": {
        "id": "cSReC6QHaofQ",
        "colab": {
          "base_uri": "https://localhost:8080/"
        },
        "outputId": "c63fb7b3-570e-4656-d4a0-a2952b2b528c"
      },
      "outputs": [
        {
          "output_type": "stream",
          "name": "stdout",
          "text": [
            "M5(\n",
            "  (conv1): Conv1d(1, 32, kernel_size=(80,), stride=(16,))\n",
            "  (bn1): BatchNorm1d(32, eps=1e-05, momentum=0.1, affine=True, track_running_stats=True)\n",
            "  (pool1): MaxPool1d(kernel_size=4, stride=4, padding=0, dilation=1, ceil_mode=False)\n",
            "  (conv2): Conv1d(32, 32, kernel_size=(3,), stride=(1,))\n",
            "  (bn2): BatchNorm1d(32, eps=1e-05, momentum=0.1, affine=True, track_running_stats=True)\n",
            "  (pool2): MaxPool1d(kernel_size=4, stride=4, padding=0, dilation=1, ceil_mode=False)\n",
            "  (conv3): Conv1d(32, 64, kernel_size=(3,), stride=(1,))\n",
            "  (bn3): BatchNorm1d(64, eps=1e-05, momentum=0.1, affine=True, track_running_stats=True)\n",
            "  (pool3): MaxPool1d(kernel_size=4, stride=4, padding=0, dilation=1, ceil_mode=False)\n",
            "  (conv4): Conv1d(64, 64, kernel_size=(3,), stride=(1,))\n",
            "  (bn4): BatchNorm1d(64, eps=1e-05, momentum=0.1, affine=True, track_running_stats=True)\n",
            "  (pool4): MaxPool1d(kernel_size=4, stride=4, padding=0, dilation=1, ceil_mode=False)\n",
            "  (fc1): Linear(in_features=64, out_features=35, bias=True)\n",
            ")\n",
            "Number of parameters: 26915\n"
          ]
        }
      ],
      "source": [
        "# M5라는 이름의 신경망 모델 클래스를 정의합니다.\n",
        "class M5(nn.Module):\n",
        "    # 초기화 함수\n",
        "    def __init__(self, n_input=1, n_output=35, stride=16, n_channel=32):\n",
        "        # 상위 클래스인 nn.Module의 초기화 함수를 호출합니다.\n",
        "        super().__init__()\n",
        "\n",
        "        # 첫 번째 합성곱 층 (1차원)\n",
        "        self.conv1 = nn.Conv1d(n_input, n_channel, kernel_size=80, stride=stride)\n",
        "        # 첫 번째 배치 정규화 층\n",
        "        self.bn1 = nn.BatchNorm1d(n_channel)\n",
        "        # 첫 번째 최대 풀링 층\n",
        "        self.pool1 = nn.MaxPool1d(4)\n",
        "\n",
        "        # 두 번째 합성곱 층\n",
        "        self.conv2 = nn.Conv1d(n_channel, n_channel, kernel_size=3)\n",
        "        # 두 번째 배치 정규화 층\n",
        "        self.bn2 = nn.BatchNorm1d(n_channel)\n",
        "        # 두 번째 최대 풀링 층\n",
        "        self.pool2 = nn.MaxPool1d(4)\n",
        "\n",
        "        # 세 번째 합성곱 층\n",
        "        self.conv3 = nn.Conv1d(n_channel, 2 * n_channel, kernel_size=3)\n",
        "        # 세 번째 배치 정규화 층\n",
        "        self.bn3 = nn.BatchNorm1d(2 * n_channel)\n",
        "        # 세 번째 최대 풀링 층\n",
        "        self.pool3 = nn.MaxPool1d(4)\n",
        "\n",
        "        # 네 번째 합성곱 층\n",
        "        self.conv4 = nn.Conv1d(2 * n_channel, 2 * n_channel, kernel_size=3)\n",
        "        # 네 번째 배치 정규화 층\n",
        "        self.bn4 = nn.BatchNorm1d(2 * n_channel)\n",
        "        # 네 번째 최대 풀링 층\n",
        "        self.pool4 = nn.MaxPool1d(4)\n",
        "\n",
        "        # 완전 연결 층\n",
        "        self.fc1 = nn.Linear(2 * n_channel, n_output)\n",
        "\n",
        "    # 순전파 함수\n",
        "    def forward(self, x):\n",
        "        # 각 층을 순서대로 통과시키면서 연산을 수행\n",
        "        x = self.conv1(x)\n",
        "        x = F.relu(self.bn1(x))\n",
        "        x = self.pool1(x)\n",
        "\n",
        "        x = self.conv2(x)\n",
        "        x = F.relu(self.bn2(x))\n",
        "        x = self.pool2(x)\n",
        "\n",
        "        x = self.conv3(x)\n",
        "        x = F.relu(self.bn3(x))\n",
        "        x = self.pool3(x)\n",
        "\n",
        "        x = self.conv4(x)\n",
        "        x = F.relu(self.bn4(x))\n",
        "        x = self.pool4(x)\n",
        "\n",
        "        # 평균 풀링을 적용\n",
        "        x = F.avg_pool1d(x, x.shape[-1])\n",
        "\n",
        "        # 차원의 순서를 바꿈\n",
        "        x = x.permute(0, 2, 1)\n",
        "\n",
        "        # 완전 연결 층을 통과\n",
        "        x = self.fc1(x)\n",
        "\n",
        "        # 로그-소프트맥스 활성화 함수를 적용\n",
        "        return F.log_softmax(x, dim=2)\n",
        "\n",
        "# 모델 객체 생성\n",
        "model = M5(n_input=transformed.shape[0], n_output=len(labels))\n",
        "# 모델을 지정된 디바이스로 이동\n",
        "model.to(device)\n",
        "# 모델의 구조를 출력\n",
        "print(model)\n",
        "\n",
        "# 모델의 파라미터 수를 세는 함수\n",
        "def count_parameters(model):\n",
        "    # 모델의 학습 가능한 파라미터 수를 합산\n",
        "    return sum(p.numel() for p in model.parameters() if p.requires_grad)\n",
        "\n",
        "# 모델의 학습 가능한 파라미터 수를 계산하고 출력\n",
        "n = count_parameters(model)\n",
        "print(\"Number of parameters: %s\" % n)\n"
      ]
    },
    {
      "cell_type": "markdown",
      "metadata": {
        "id": "s2xY1ok4aofQ"
      },
      "source": [
        "We will use the same optimization technique used in the paper, an Adam\n",
        "optimizer with weight decay set to 0.0001. At first, we will train with\n",
        "a learning rate of 0.01, but we will use a ``scheduler`` to decrease it\n",
        "to 0.001 during training after 20 epochs.\n",
        "\n",
        "\n"
      ]
    },
    {
      "cell_type": "code",
      "execution_count": 13,
      "metadata": {
        "id": "jhpRculzaofQ"
      },
      "outputs": [],
      "source": [
        "# Optimizer 설정:\n",
        "# Adam 최적화 알고리즘을 사용하며, 학습률은 0.01, 가중치 감소(Regularization)를 위한 매개변수는 0.0001로 설정합니다.\n",
        "optimizer = optim.Adam(model.parameters(), lr=0.01, weight_decay=0.0001)\n",
        "\n",
        "# 학습률 스케줄러 설정:\n",
        "# 20 에폭마다 학습률을 0.1의 요인(factor)으로 감소시킵니다.\n",
        "# 예를 들어, 초기 학습률이 0.01이라면 20 에폭 후에는 0.001로 감소됩니다.\n",
        "scheduler = optim.lr_scheduler.StepLR(optimizer, step_size=20, gamma=0.1)\n"
      ]
    },
    {
      "cell_type": "markdown",
      "metadata": {
        "id": "s74O-meDaofR"
      },
      "source": [
        "## Training and Testing the Network\n",
        "\n",
        "Now let’s define a training function that will feed our training data\n",
        "into the model and perform the backward pass and optimization steps. For\n",
        "training, the loss we will use is the negative log-likelihood. The\n",
        "network will then be tested after each epoch to see how the accuracy\n",
        "varies during the training.\n",
        "\n",
        "\n"
      ]
    },
    {
      "cell_type": "code",
      "execution_count": 14,
      "metadata": {
        "id": "-1YQI0fMaofR"
      },
      "outputs": [],
      "source": [
        "# 학습 함수 정의\n",
        "def train(model, epoch, log_interval):\n",
        "\n",
        "    # 모델을 학습 모드로 설정\n",
        "    model.train()\n",
        "\n",
        "    # 학습 데이터셋의 각 배치에 대해 반복\n",
        "    for batch_idx, (data, target) in enumerate(train_loader):\n",
        "\n",
        "        # 데이터와 타겟을 지정된 디바이스(CPU or GPU)로 이동\n",
        "        data = data.to(device)\n",
        "        target = target.to(device)\n",
        "\n",
        "        # 데이터에 전처리(여기서는 Resample)을 적용하고 모델을 통해 출력값 계산\n",
        "        data = transform(data)\n",
        "        output = model(data)\n",
        "\n",
        "        # Negative Log Likelihood 손실을 계산\n",
        "        # 출력 텐서의 크기는 (batch x 1 x n_output)이므로 squeeze 함수로 차원을 줄인 후 손실을 계산\n",
        "        loss = F.nll_loss(output.squeeze(), target)\n",
        "\n",
        "        # 모델의 그라디언트를 초기화\n",
        "        optimizer.zero_grad()\n",
        "\n",
        "        # 손실에 대한 그라디언트를 역전파\n",
        "        loss.backward()\n",
        "\n",
        "        # 옵티마이저를 사용하여 모델의 파라미터 업데이트\n",
        "        optimizer.step()\n",
        "\n",
        "        # 일정 간격으로 학습 통계 출력\n",
        "        if batch_idx % log_interval == 0:\n",
        "            print(f\"Train Epoch: {epoch} [{batch_idx * len(data)}/{len(train_loader.dataset)} ({100. * batch_idx / len(train_loader):.0f}%)]\\tLoss: {loss.item():.6f}\")\n",
        "\n",
        "        # 진행 상태 업데이트 (이 부분은 본래 코드에 없던 pbar에 대한 것으로, 진행률 표시바를 업데이트하는 것으로 보임)\n",
        "        pbar.update(pbar_update)\n",
        "\n",
        "        # 손실값 기록 (losses는 이 함수 외부에 정의된 리스트로 추정됨)\n",
        "        losses.append(loss.item())\n"
      ]
    },
    {
      "cell_type": "markdown",
      "metadata": {
        "id": "Z_2nvHpEaofR"
      },
      "source": [
        "Now that we have a training function, we need to make one for testing\n",
        "the networks accuracy. We will set the model to ``eval()`` mode and then\n",
        "run inference on the test dataset. Calling ``eval()`` sets the training\n",
        "variable in all modules in the network to false. Certain layers like\n",
        "batch normalization and dropout layers behave differently during\n",
        "training so this step is crucial for getting correct results.\n",
        "\n",
        "\n"
      ]
    },
    {
      "cell_type": "code",
      "execution_count": 15,
      "metadata": {
        "id": "BpNEJhIqaofR"
      },
      "outputs": [],
      "source": [
        "# 올바른 예측의 개수를 반환하는 함수\n",
        "def number_of_correct(pred, target):\n",
        "    return pred.squeeze().eq(target).sum().item()\n",
        "\n",
        "# 배치의 각 요소에 대한 가장 가능성 있는 라벨 인덱스를 찾는 함수\n",
        "def get_likely_index(tensor):\n",
        "    return tensor.argmax(dim=-1)\n",
        "\n",
        "# 테스트 함수 정의\n",
        "def test(model, epoch):\n",
        "\n",
        "    # 모델을 평가 모드로 설정 (dropout 및 batchnorm 등의 행동을 변경)\n",
        "    model.eval()\n",
        "    correct = 0  # 올바른 예측의 개수를 저장하기 위한 변수\n",
        "\n",
        "    # 테스트 데이터셋의 각 배치에 대해 반복\n",
        "    for data, target in test_loader:\n",
        "\n",
        "        # 데이터와 타겟을 지정된 디바이스(CPU or GPU)로 이동\n",
        "        data = data.to(device)\n",
        "        target = target.to(device)\n",
        "\n",
        "        # 데이터에 전처리(Resample)을 적용하고 모델을 통해 출력값 계산\n",
        "        data = transform(data)\n",
        "        output = model(data)\n",
        "\n",
        "        # 출력값에서 가장 가능성 있는 라벨 인덱스를 추출\n",
        "        pred = get_likely_index(output)\n",
        "\n",
        "        # 올바른 예측의 개수를 누적\n",
        "        correct += number_of_correct(pred, target)\n",
        "\n",
        "        # 진행 상태 업데이트 (pbar는 진행률 표시바를 업데이트하는 것으로 보임)\n",
        "        pbar.update(pbar_update)\n",
        "\n",
        "    # 테스트 결과 출력\n",
        "    print(f\"\\nTest Epoch: {epoch}\\tAccuracy: {correct}/{len(test_loader.dataset)} ({100. * correct / len(test_loader.dataset):.0f}%)\\n\")\n"
      ]
    },
    {
      "cell_type": "markdown",
      "metadata": {
        "id": "ft7RaQd0aofS"
      },
      "source": [
        "Finally, we can train and test the network. We will train the network\n",
        "for ten epochs then reduce the learn rate and train for ten more epochs.\n",
        "The network will be tested after each epoch to see how the accuracy\n",
        "varies during the training.\n",
        "\n",
        "\n"
      ]
    },
    {
      "cell_type": "code",
      "execution_count": 18,
      "metadata": {
        "id": "-3OWGvzXaofS",
        "colab": {
          "base_uri": "https://localhost:8080/",
          "height": 1000
        },
        "outputId": "6b1e89fa-2de4-421f-e739-b9eb28abe071"
      },
      "outputs": [
        {
          "output_type": "stream",
          "name": "stderr",
          "text": [
            "  0%|          | 0.0026666666666666666/2 [00:02<30:10, 906.42s/it]"
          ]
        },
        {
          "output_type": "stream",
          "name": "stdout",
          "text": [
            "Train Epoch: 1 [0/84843 (0%)]\tLoss: 3.730706\n"
          ]
        },
        {
          "output_type": "stream",
          "name": "stderr",
          "text": [
            "  3%|▎         | 0.05599999999999999/2 [00:11<04:46, 147.14s/it]"
          ]
        },
        {
          "output_type": "stream",
          "name": "stdout",
          "text": [
            "Train Epoch: 1 [5120/84843 (6%)]\tLoss: 3.175025\n"
          ]
        },
        {
          "output_type": "stream",
          "name": "stderr",
          "text": [
            "  5%|▌         | 0.10933333333333328/2 [00:19<04:10, 132.57s/it]"
          ]
        },
        {
          "output_type": "stream",
          "name": "stdout",
          "text": [
            "Train Epoch: 1 [10240/84843 (12%)]\tLoss: 2.599618\n"
          ]
        },
        {
          "output_type": "stream",
          "name": "stderr",
          "text": [
            "  8%|▊         | 0.16266666666666676/2 [00:28<05:25, 177.09s/it]"
          ]
        },
        {
          "output_type": "stream",
          "name": "stdout",
          "text": [
            "Train Epoch: 1 [15360/84843 (18%)]\tLoss: 2.281661\n"
          ]
        },
        {
          "output_type": "stream",
          "name": "stderr",
          "text": [
            " 11%|█         | 0.21600000000000033/2 [00:36<04:22, 146.88s/it]"
          ]
        },
        {
          "output_type": "stream",
          "name": "stdout",
          "text": [
            "Train Epoch: 1 [20480/84843 (24%)]\tLoss: 2.102035\n"
          ]
        },
        {
          "output_type": "stream",
          "name": "stderr",
          "text": [
            " 13%|█▎        | 0.2693333333333337/2 [00:44<04:37, 160.31s/it] "
          ]
        },
        {
          "output_type": "stream",
          "name": "stdout",
          "text": [
            "Train Epoch: 1 [25600/84843 (30%)]\tLoss: 1.904135\n"
          ]
        },
        {
          "output_type": "stream",
          "name": "stderr",
          "text": [
            " 16%|█▌        | 0.3226666666666667/2 [00:52<03:58, 142.21s/it] "
          ]
        },
        {
          "output_type": "stream",
          "name": "stdout",
          "text": [
            "Train Epoch: 1 [30720/84843 (36%)]\tLoss: 1.786913\n"
          ]
        },
        {
          "output_type": "stream",
          "name": "stderr",
          "text": [
            " 19%|█▉        | 0.3759999999999997/2 [01:00<03:51, 142.84s/it]"
          ]
        },
        {
          "output_type": "stream",
          "name": "stdout",
          "text": [
            "Train Epoch: 1 [35840/84843 (42%)]\tLoss: 1.842941\n"
          ]
        },
        {
          "output_type": "stream",
          "name": "stderr",
          "text": [
            " 21%|██▏       | 0.42933333333333273/2 [01:08<04:53, 186.68s/it]"
          ]
        },
        {
          "output_type": "stream",
          "name": "stdout",
          "text": [
            "Train Epoch: 1 [40960/84843 (48%)]\tLoss: 1.749689\n"
          ]
        },
        {
          "output_type": "stream",
          "name": "stderr",
          "text": [
            " 24%|██▍       | 0.48266666666666574/2 [01:16<03:34, 141.66s/it]"
          ]
        },
        {
          "output_type": "stream",
          "name": "stdout",
          "text": [
            "Train Epoch: 1 [46080/84843 (54%)]\tLoss: 1.743410\n"
          ]
        },
        {
          "output_type": "stream",
          "name": "stderr",
          "text": [
            " 27%|██▋       | 0.5359999999999995/2 [01:24<03:19, 136.08s/it]"
          ]
        },
        {
          "output_type": "stream",
          "name": "stdout",
          "text": [
            "Train Epoch: 1 [51200/84843 (60%)]\tLoss: 1.471494\n"
          ]
        },
        {
          "output_type": "stream",
          "name": "stderr",
          "text": [
            " 29%|██▉       | 0.5893333333333336/2 [01:32<03:03, 130.20s/it]"
          ]
        },
        {
          "output_type": "stream",
          "name": "stdout",
          "text": [
            "Train Epoch: 1 [56320/84843 (66%)]\tLoss: 1.507478\n"
          ]
        },
        {
          "output_type": "stream",
          "name": "stderr",
          "text": [
            " 32%|███▏      | 0.6426666666666677/2 [01:39<02:58, 131.47s/it]"
          ]
        },
        {
          "output_type": "stream",
          "name": "stdout",
          "text": [
            "Train Epoch: 1 [61440/84843 (72%)]\tLoss: 1.364105\n"
          ]
        },
        {
          "output_type": "stream",
          "name": "stderr",
          "text": [
            " 35%|███▍      | 0.6960000000000018/2 [01:48<04:01, 184.89s/it]"
          ]
        },
        {
          "output_type": "stream",
          "name": "stdout",
          "text": [
            "Train Epoch: 1 [66560/84843 (78%)]\tLoss: 1.266548\n"
          ]
        },
        {
          "output_type": "stream",
          "name": "stderr",
          "text": [
            " 37%|███▋      | 0.749333333333336/2 [01:55<02:59, 143.64s/it] "
          ]
        },
        {
          "output_type": "stream",
          "name": "stdout",
          "text": [
            "Train Epoch: 1 [71680/84843 (84%)]\tLoss: 1.414277\n"
          ]
        },
        {
          "output_type": "stream",
          "name": "stderr",
          "text": [
            " 40%|████      | 0.8026666666666701/2 [02:04<03:01, 151.38s/it]"
          ]
        },
        {
          "output_type": "stream",
          "name": "stdout",
          "text": [
            "Train Epoch: 1 [76800/84843 (90%)]\tLoss: 1.144695\n"
          ]
        },
        {
          "output_type": "stream",
          "name": "stderr",
          "text": [
            " 43%|████▎     | 0.8560000000000042/2 [02:11<02:30, 131.90s/it]"
          ]
        },
        {
          "output_type": "stream",
          "name": "stdout",
          "text": [
            "Train Epoch: 1 [81920/84843 (96%)]\tLoss: 1.224656\n"
          ]
        },
        {
          "output_type": "stream",
          "name": "stderr",
          "text": [
            " 50%|█████     | 1.0000000000000062/2 [02:27<02:15, 135.27s/it]"
          ]
        },
        {
          "output_type": "stream",
          "name": "stdout",
          "text": [
            "\n",
            "Test Epoch: 1\tAccuracy: 6076/11005 (55%)\n",
            "\n"
          ]
        },
        {
          "output_type": "stream",
          "name": "stderr",
          "text": [
            "\r 50%|█████     | 1.0026666666666728/2 [02:28<02:43, 163.71s/it]"
          ]
        },
        {
          "output_type": "stream",
          "name": "stdout",
          "text": [
            "Train Epoch: 2 [0/84843 (0%)]\tLoss: 1.117365\n"
          ]
        },
        {
          "output_type": "stream",
          "name": "stderr",
          "text": [
            " 53%|█████▎    | 1.0560000000000047/2 [02:36<02:12, 140.83s/it]"
          ]
        },
        {
          "output_type": "stream",
          "name": "stdout",
          "text": [
            "Train Epoch: 2 [5120/84843 (6%)]\tLoss: 1.087515\n"
          ]
        },
        {
          "output_type": "stream",
          "name": "stderr",
          "text": [
            " 55%|█████▌    | 1.1093333333333366/2 [02:44<02:05, 140.43s/it]"
          ]
        },
        {
          "output_type": "stream",
          "name": "stdout",
          "text": [
            "Train Epoch: 2 [10240/84843 (12%)]\tLoss: 0.960600\n"
          ]
        },
        {
          "output_type": "stream",
          "name": "stderr",
          "text": [
            " 58%|█████▊    | 1.1626666666666685/2 [02:52<01:56, 138.60s/it]"
          ]
        },
        {
          "output_type": "stream",
          "name": "stdout",
          "text": [
            "Train Epoch: 2 [15360/84843 (18%)]\tLoss: 0.974267\n"
          ]
        },
        {
          "output_type": "stream",
          "name": "stderr",
          "text": [
            " 61%|██████    | 1.2160000000000004/2 [03:03<03:42, 283.36s/it]"
          ]
        },
        {
          "output_type": "stream",
          "name": "stdout",
          "text": [
            "Train Epoch: 2 [20480/84843 (24%)]\tLoss: 1.121747\n"
          ]
        },
        {
          "output_type": "stream",
          "name": "stderr",
          "text": [
            " 63%|██████▎   | 1.2693333333333323/2 [03:14<01:45, 144.17s/it]"
          ]
        },
        {
          "output_type": "stream",
          "name": "stdout",
          "text": [
            "Train Epoch: 2 [25600/84843 (30%)]\tLoss: 1.113994\n"
          ]
        },
        {
          "output_type": "stream",
          "name": "stderr",
          "text": [
            " 66%|██████▌   | 1.3226666666666642/2 [03:22<01:58, 174.47s/it]"
          ]
        },
        {
          "output_type": "stream",
          "name": "stdout",
          "text": [
            "Train Epoch: 2 [30720/84843 (36%)]\tLoss: 1.218271\n"
          ]
        },
        {
          "output_type": "stream",
          "name": "stderr",
          "text": [
            " 69%|██████▉   | 1.3759999999999961/2 [03:29<01:22, 132.45s/it]"
          ]
        },
        {
          "output_type": "stream",
          "name": "stdout",
          "text": [
            "Train Epoch: 2 [35840/84843 (42%)]\tLoss: 0.906772\n"
          ]
        },
        {
          "output_type": "stream",
          "name": "stderr",
          "text": [
            " 71%|███████▏  | 1.429333333333328/2 [03:38<01:36, 169.32s/it] "
          ]
        },
        {
          "output_type": "stream",
          "name": "stdout",
          "text": [
            "Train Epoch: 2 [40960/84843 (48%)]\tLoss: 0.846877\n"
          ]
        },
        {
          "output_type": "stream",
          "name": "stderr",
          "text": [
            " 74%|███████▍  | 1.48266666666666/2 [03:45<01:07, 129.63s/it]  "
          ]
        },
        {
          "output_type": "stream",
          "name": "stdout",
          "text": [
            "Train Epoch: 2 [46080/84843 (54%)]\tLoss: 1.143475\n"
          ]
        },
        {
          "output_type": "stream",
          "name": "stderr",
          "text": [
            " 77%|███████▋  | 1.5359999999999918/2 [03:53<01:02, 134.59s/it]"
          ]
        },
        {
          "output_type": "stream",
          "name": "stdout",
          "text": [
            "Train Epoch: 2 [51200/84843 (60%)]\tLoss: 0.914828\n"
          ]
        },
        {
          "output_type": "stream",
          "name": "stderr",
          "text": [
            " 79%|███████▉  | 1.5893333333333237/2 [04:02<01:19, 193.46s/it]"
          ]
        },
        {
          "output_type": "stream",
          "name": "stdout",
          "text": [
            "Train Epoch: 2 [56320/84843 (66%)]\tLoss: 0.839619\n"
          ]
        },
        {
          "output_type": "stream",
          "name": "stderr",
          "text": [
            " 82%|████████▏ | 1.6426666666666556/2 [04:09<00:51, 144.40s/it]"
          ]
        },
        {
          "output_type": "stream",
          "name": "stdout",
          "text": [
            "Train Epoch: 2 [61440/84843 (72%)]\tLoss: 1.039715\n"
          ]
        },
        {
          "output_type": "stream",
          "name": "stderr",
          "text": [
            " 85%|████████▍ | 1.6959999999999875/2 [04:18<00:43, 142.57s/it]"
          ]
        },
        {
          "output_type": "stream",
          "name": "stdout",
          "text": [
            "Train Epoch: 2 [66560/84843 (78%)]\tLoss: 0.874742\n"
          ]
        },
        {
          "output_type": "stream",
          "name": "stderr",
          "text": [
            " 87%|████████▋ | 1.7493333333333194/2 [04:25<00:36, 144.54s/it]"
          ]
        },
        {
          "output_type": "stream",
          "name": "stdout",
          "text": [
            "Train Epoch: 2 [71680/84843 (84%)]\tLoss: 0.923637\n"
          ]
        },
        {
          "output_type": "stream",
          "name": "stderr",
          "text": [
            " 90%|█████████ | 1.8026666666666513/2 [04:34<00:26, 133.05s/it]"
          ]
        },
        {
          "output_type": "stream",
          "name": "stdout",
          "text": [
            "Train Epoch: 2 [76800/84843 (90%)]\tLoss: 0.820497\n"
          ]
        },
        {
          "output_type": "stream",
          "name": "stderr",
          "text": [
            " 93%|█████████▎| 1.8559999999999832/2 [04:42<00:27, 192.32s/it]"
          ]
        },
        {
          "output_type": "stream",
          "name": "stdout",
          "text": [
            "Train Epoch: 2 [81920/84843 (96%)]\tLoss: 0.844079\n"
          ]
        },
        {
          "output_type": "stream",
          "name": "stderr",
          "text": [
            "100%|█████████▉| 1.9999999999999793/2 [05:04<00:00, 152.11s/it]\n"
          ]
        },
        {
          "output_type": "stream",
          "name": "stdout",
          "text": [
            "\n",
            "Test Epoch: 2\tAccuracy: 7877/11005 (72%)\n",
            "\n"
          ]
        },
        {
          "output_type": "display_data",
          "data": {
            "text/plain": [
              "<Figure size 640x480 with 1 Axes>"
            ],
            "image/png": "[encoded data removed]"
          },
          "metadata": {}
        }
      ],
      "source": [
        "# 학습 및 테스트 시 로그를 기록할 간격을 설정합니다.\n",
        "log_interval = 20\n",
        "\n",
        "# 총 학습 에포크 수를 설정합니다.\n",
        "n_epoch = 2\n",
        "\n",
        "# tqdm의 진행 표시줄(progress bar)을 업데이트하기 위한 값 설정.\n",
        "# 학습 데이터로더와 테스트 데이터로더의 전체 길이를 합한 값의 역수를 이용합니다.\n",
        "pbar_update = 1 / (len(train_loader) + len(test_loader))\n",
        "\n",
        "# 학습 도중의 손실(loss) 값을 저장할 리스트를 초기화합니다.\n",
        "losses = []\n",
        "\n",
        "# 변환(예: 데이터 전처리)을 수행하는 transform은\n",
        "# 모델과 데이터와 같은 장치(device)에 있어야 합니다.\n",
        "transform = transform.to(device)\n",
        "\n",
        "# 진행 표시줄을 초기화하고 전체 학습 에포크 수만큼 반복합니다.\n",
        "with tqdm(total=n_epoch) as pbar:\n",
        "    for epoch in range(1, n_epoch + 1):\n",
        "        # 학습 함수를 호출하며 모델, 현재 에포크, 로그 간격을 인수로 전달합니다.\n",
        "        train(model, epoch, log_interval)\n",
        "\n",
        "        # 테스트 함수를 호출하며 모델과 현재 에포크를 인수로 전달합니다.\n",
        "        test(model, epoch)\n",
        "\n",
        "        # 스케줄러를 사용하여 학습률을 조정합니다.\n",
        "        scheduler.step()\n",
        "\n",
        "# (선택사항) 학습 손실을 반복 횟수에 대하여 그래프로 그립니다.\n",
        "        plt.plot(losses);\n",
        "        plt.title(\"training loss\");\n"
      ]
    },
    {
      "cell_type": "markdown",
      "metadata": {
        "id": "MBRQspBcaofS"
      },
      "source": [
        "The network should be more than 65% accurate on the test set after 2\n",
        "epochs, and 85% after 21 epochs. Let’s look at the last words in the\n",
        "train set, and see how the model did on it.\n",
        "\n",
        "\n"
      ]
    },
    {
      "cell_type": "code",
      "execution_count": 19,
      "metadata": {
        "id": "FnTm3_rjaofT",
        "colab": {
          "base_uri": "https://localhost:8080/"
        },
        "outputId": "f18074d3-1023-4f9c-81e8-ef4b0d29d3ad"
      },
      "outputs": [
        {
          "output_type": "stream",
          "name": "stdout",
          "text": [
            "Expected: zero. Predicted: zero.\n"
          ]
        }
      ],
      "source": [
        "def predict(tensor):\n",
        "    # 주어진 텐서(waveform)에 대해 라벨을 예측하기 위해 모델을 사용합니다.\n",
        "\n",
        "    # 텐서를 모델과 동일한 장치(device)로 이동시킵니다.\n",
        "    tensor = tensor.to(device)\n",
        "\n",
        "    # 텐서에 데이터 전처리(transform)를 적용합니다.\n",
        "    tensor = transform(tensor)\n",
        "\n",
        "    # 전처리된 텐서를 모델에 입력하여 결과를 얻습니다.\n",
        "    # unsqueeze(0)은 배치 차원을 추가하기 위해 사용됩니다.\n",
        "    tensor = model(tensor.unsqueeze(0))\n",
        "\n",
        "    # tensor에서 가장 확률이 높은 인덱스를 가져옵니다.\n",
        "    tensor = get_likely_index(tensor)\n",
        "\n",
        "    # 인덱스를 해당하는 라벨로 변환합니다.\n",
        "    tensor = index_to_label(tensor.squeeze())\n",
        "\n",
        "    return tensor\n",
        "\n",
        "# 학습 데이터셋의 마지막 샘플을 가져옵니다.\n",
        "waveform, sample_rate, utterance, *_ = train_set[-1]\n",
        "\n",
        "# 가져온 waveform을 오디오로 재생할 수 있게 ipd.Audio를 사용하여 오디오 객체를 생성합니다.\n",
        "ipd.Audio(waveform.numpy(), rate=sample_rate)\n",
        "\n",
        "# 예측된 라벨과 실제 라벨(utterance)을 출력합니다.\n",
        "print(f\"Expected: {utterance}. Predicted: {predict(waveform)}.\")\n"
      ]
    },
    {
      "cell_type": "markdown",
      "metadata": {
        "id": "pAdVdfV1aofT"
      },
      "source": [
        "Let’s find an example that isn’t classified correctly, if there is one.\n",
        "\n",
        "\n"
      ]
    },
    {
      "cell_type": "code",
      "execution_count": 20,
      "metadata": {
        "id": "B4f-xBVPaofU",
        "colab": {
          "base_uri": "https://localhost:8080/"
        },
        "outputId": "90afb6d6-594f-4afd-88a3-d0e533ce5f4f"
      },
      "outputs": [
        {
          "output_type": "stream",
          "name": "stdout",
          "text": [
            "Data point #1. Expected: right. Predicted: learn.\n"
          ]
        }
      ],
      "source": [
        "# 테스트 데이터셋을 순회합니다.\n",
        "for i, (waveform, sample_rate, utterance, *_) in enumerate(test_set):\n",
        "    # 현재 waveform에 대한 라벨을 예측합니다.\n",
        "    output = predict(waveform)\n",
        "\n",
        "    # 예측된 라벨과 실제 라벨이 다르다면,\n",
        "    if output != utterance:\n",
        "        # 해당 waveform을 오디오로 재생합니다.\n",
        "        ipd.Audio(waveform.numpy(), rate=sample_rate)\n",
        "\n",
        "        # 해당 데이터 포인트의 정보를 출력합니다.\n",
        "        print(f\"Data point #{i}. Expected: {utterance}. Predicted: {output}.\")\n",
        "\n",
        "        # 첫 번째 예측 오류를 찾았으므로 반복을 중단합니다.\n",
        "        break\n",
        "else:\n",
        "    # 모든 데이터 포인트에서 예측이 올바르게 이루어졌다면,\n",
        "    print(\"All examples in this dataset were correctly classified!\")\n",
        "\n",
        "    # 이 경우, 마지막 데이터 포인트에 대한 정보만 출력합니다.\n",
        "    print(\"In this case, let's just look at the last data point\")\n",
        "    print(f\"Data point #{i}. Expected: {utterance}. Predicted: {output}.\")\n"
      ]
    },
    {
      "cell_type": "markdown",
      "metadata": {
        "id": "f8a0dc6jaofU"
      },
      "source": [
        "Feel free to try with one of your own recordings of one of the labels!\n",
        "For example, using Colab, say “Go” while executing the cell below. This\n",
        "will record one second of audio and try to classify it.\n",
        "\n",
        "\n"
      ]
    },
    {
      "cell_type": "code",
      "execution_count": 28,
      "metadata": {
        "id": "AdP1mcWJaofV",
        "colab": {
          "base_uri": "https://localhost:8080/",
          "height": 68
        },
        "outputId": "8897770f-e7f0-41ee-bf7e-b24352366e77"
      },
      "outputs": [
        {
          "output_type": "stream",
          "name": "stdout",
          "text": [
            "Recording started for 4 seconds.\n"
          ]
        },
        {
          "output_type": "display_data",
          "data": {
            "text/plain": [
              "<IPython.core.display.Javascript object>"
            ],
            "application/javascript": [
              "const sleep  = time => new Promise(resolve => setTimeout(resolve, time))\n",
              "const b2text = blob => new Promise(resolve => {\n",
              "  const reader = new FileReader()\n",
              "  reader.onloadend = e => resolve(e.srcElement.result)\n",
              "  reader.readAsDataURL(blob)\n",
              "})\n",
              "var record = time => new Promise(async resolve => {\n",
              "  stream = await navigator.mediaDevices.getUserMedia({ audio: true })\n",
              "  recorder = new MediaRecorder(stream)\n",
              "  chunks = []\n",
              "  recorder.ondataavailable = e => chunks.push(e.data)\n",
              "  recorder.start()\n",
              "  await sleep(time)\n",
              "  recorder.onstop = async ()=>{\n",
              "    blob = new Blob(chunks)\n",
              "    text = await b2text(blob)\n",
              "    resolve(text)\n",
              "  }\n",
              "  recorder.stop()\n",
              "})"
            ]
          },
          "metadata": {}
        },
        {
          "output_type": "stream",
          "name": "stdout",
          "text": [
            "Recording ended.\n",
            "Predicted: four.\n"
          ]
        }
      ],
      "source": [
        "def record(seconds=4):\n",
        "\n",
        "    # Google Colab의 출력 기능과 관련된 라이브러리들을 임포트합니다.\n",
        "    from google.colab import output as colab_output\n",
        "    from base64 import b64decode\n",
        "    from io import BytesIO\n",
        "    from pydub import AudioSegment\n",
        "\n",
        "    # 웹 브라우저에서 오디오를 녹음하기 위한 자바스크립트 코드입니다.\n",
        "    # 이 코드는 사용자의 마이크를 통해 지정된 시간동안 오디오를 녹음합니다.\n",
        "    RECORD = (\n",
        "        b\"const sleep  = time => new Promise(resolve => setTimeout(resolve, time))\\n\"\n",
        "        b\"const b2text = blob => new Promise(resolve => {\\n\"\n",
        "        b\"  const reader = new FileReader()\\n\"\n",
        "        b\"  reader.onloadend = e => resolve(e.srcElement.result)\\n\"\n",
        "        b\"  reader.readAsDataURL(blob)\\n\"\n",
        "        b\"})\\n\"\n",
        "        b\"var record = time => new Promise(async resolve => {\\n\"\n",
        "        b\"  stream = await navigator.mediaDevices.getUserMedia({ audio: true })\\n\"\n",
        "        b\"  recorder = new MediaRecorder(stream)\\n\"\n",
        "        b\"  chunks = []\\n\"\n",
        "        b\"  recorder.ondataavailable = e => chunks.push(e.data)\\n\"\n",
        "        b\"  recorder.start()\\n\"\n",
        "        b\"  await sleep(time)\\n\"\n",
        "        b\"  recorder.onstop = async ()=>{\\n\"\n",
        "        b\"    blob = new Blob(chunks)\\n\"\n",
        "        b\"    text = await b2text(blob)\\n\"\n",
        "        b\"    resolve(text)\\n\"\n",
        "        b\"  }\\n\"\n",
        "        b\"  recorder.stop()\\n\"\n",
        "        b\"})\"\n",
        "    )\n",
        "    RECORD = RECORD.decode(\"ascii\")\n",
        "\n",
        "    # 녹음이 시작됨을 알립니다.\n",
        "    print(f\"Recording started for {seconds} seconds.\")\n",
        "    display(ipd.Javascript(RECORD))\n",
        "    s = colab_output.eval_js(\"record(%d)\" % (seconds * 1000))\n",
        "    print(\"Recording ended.\")\n",
        "    b = b64decode(s.split(\",\")[1])\n",
        "\n",
        "    # 녹음된 오디오를 wav 형식으로 저장합니다\n",
        "    fileformat = \"wav\"\n",
        "    filename = f\"_audio.{fileformat}\"\n",
        "    AudioSegment.from_file(BytesIO(b)).export(filename, format=fileformat)\n",
        "    return torchaudio.load(filename)\n",
        "\n",
        "\n",
        "# Detect whether notebook runs in google colab\n",
        "if \"google.colab\" in sys.modules:\n",
        "    waveform, sample_rate = record()\n",
        "    print(f\"Predicted: {predict(waveform)}.\")\n",
        "    ipd.Audio(waveform.numpy(), rate=sample_rate)"
      ]
    },
    {
      "cell_type": "markdown",
      "metadata": {
        "id": "QIEl2R0maofV"
      },
      "source": [
        "## Conclusion\n",
        "\n",
        "In this tutorial, we used torchaudio to load a dataset and resample the\n",
        "signal. We have then defined a neural network that we trained to\n",
        "recognize a given command. There are also other data preprocessing\n",
        "methods, such as finding the mel frequency cepstral coefficients (MFCC),\n",
        "that can reduce the size of the dataset. This transform is also\n",
        "available in torchaudio as ``torchaudio.transforms.MFCC``.\n",
        "\n",
        "\n"
      ]
    }
  ],
  "metadata": {
    "colab": {
      "provenance": [],
      "include_colab_link": true
    },
    "kernelspec": {
      "display_name": "Python 3",
      "language": "python",
      "name": "python3"
    },
    "language_info": {
      "codemirror_mode": {
        "name": "ipython",
        "version": 3
      },
      "file_extension": ".py",
      "mimetype": "text/x-python",
      "name": "python",
      "nbconvert_exporter": "python",
      "pygments_lexer": "ipython3",
      "version": "3.10.9"
    }
  },
  "nbformat": 4,
  "nbformat_minor": 0
}
